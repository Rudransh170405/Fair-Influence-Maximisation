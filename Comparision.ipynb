{
 "cells": [
  {
   "cell_type": "code",
   "execution_count": 1,
   "id": "c3a22ed2",
   "metadata": {
    "vscode": {
     "languageId": "plaintext"
    }
   },
   "outputs": [
    {
     "name": "stdout",
     "output_type": "stream",
     "text": [
      "Greedy Seeds: [0, 33, 32], Time: 0.0542 seconds\n",
      "CELF Seeds:   [33, 0, 32], Time: 0.0266 seconds\n",
      "CELF was 2.04x faster with 11 lazy evaluations.\n"
     ]
    }
   ],
   "source": [
    "import networkx as nx\n",
    "import matplotlib.pyplot as plt\n",
    "import random\n",
    "import time\n",
    "import heapq\n",
    "\n",
    "G = nx.karate_club_graph()\n",
    "\n",
    "\n",
    "def run_ic(G, seeds, p=0.1, simulations=100):\n",
    "    total_spread = 0\n",
    "    for _ in range(simulations):\n",
    "        active = set(seeds)\n",
    "        new_active = set(seeds)\n",
    "        while new_active:\n",
    "            next_active = set()\n",
    "            for node in new_active:\n",
    "                for neighbor in G.neighbors(node):\n",
    "                    if neighbor not in active and random.random() < p:\n",
    "                        next_active.add(neighbor)\n",
    "            new_active = next_active\n",
    "            active |= next_active\n",
    "        total_spread += len(active)\n",
    "    return total_spread / simulations\n",
    "\n",
    "\n",
    "def greedy(G, k=3, p=0.1, simulations=100):\n",
    "    S = []\n",
    "    for _ in range(k):\n",
    "        best_node = None\n",
    "        best_gain = -1\n",
    "        for node in G.nodes():\n",
    "            if node in S:\n",
    "                continue\n",
    "            gain = run_ic(G, S + [node], p, simulations)\n",
    "            if gain > best_gain:\n",
    "                best_gain = gain\n",
    "                best_node = node\n",
    "        S.append(best_node)\n",
    "    return S\n",
    "\n",
    "\n",
    "def celf(G, k=3, p=0.1, simulations=100):\n",
    "    S = []\n",
    "    marg_gain = []\n",
    "    node_gain = {}\n",
    "\n",
    "    for node in G.nodes():\n",
    "        gain = run_ic(G, [node], p, simulations)\n",
    "        marg_gain.append((-gain, node, 0))\n",
    "        node_gain[node] = gain\n",
    "\n",
    "    heapq.heapify(marg_gain)\n",
    "    cur_iter = 1\n",
    "    lookups = 0\n",
    "\n",
    "    while len(S) < k:\n",
    "        gain, node, prev_iter = heapq.heappop(marg_gain)\n",
    "        gain = -gain\n",
    "        if prev_iter == len(S):\n",
    "            S.append(node)\n",
    "        else:\n",
    "            new_gain = run_ic(G, S + [node], p, simulations) - run_ic(G, S, p, simulations)\n",
    "            heapq.heappush(marg_gain, (-new_gain, node, len(S)))\n",
    "            lookups += 1\n",
    "\n",
    "    return S, lookups\n",
    "\n",
    "\n",
    "k = 3\n",
    "p = 0.1\n",
    "simulations = 100\n",
    "\n",
    "start = time.time()\n",
    "greedy_seeds = greedy(G, k, p, simulations)\n",
    "greedy_time = time.time() - start\n",
    "\n",
    "start = time.time()\n",
    "celf_seeds, lookups = celf(G, k, p, simulations)\n",
    "celf_time = time.time() - start\n",
    "\n",
    "print(f\"Greedy Seeds: {greedy_seeds}, Time: {greedy_time:.4f} seconds\")\n",
    "print(f\"CELF Seeds:   {celf_seeds}, Time: {celf_time:.4f} seconds\")\n",
    "print(f\"CELF was {greedy_time / celf_time:.2f}x faster with {lookups} lazy evaluations.\")\n"
   ]
  },
  {
   "cell_type": "code",
   "execution_count": null,
   "id": "3fc37d9e-80af-4fa0-95ee-d782576bd903",
   "metadata": {},
   "outputs": [],
   "source": []
  }
 ],
 "metadata": {
  "kernelspec": {
   "display_name": "Python 3 (ipykernel)",
   "language": "python",
   "name": "python3"
  },
  "language_info": {
   "codemirror_mode": {
    "name": "ipython",
    "version": 3
   },
   "file_extension": ".py",
   "mimetype": "text/x-python",
   "name": "python",
   "nbconvert_exporter": "python",
   "pygments_lexer": "ipython3",
   "version": "3.11.7"
  }
 },
 "nbformat": 4,
 "nbformat_minor": 5
}
