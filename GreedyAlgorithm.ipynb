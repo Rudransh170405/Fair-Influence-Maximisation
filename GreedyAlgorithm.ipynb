{
 "cells": [
  {
   "cell_type": "code",
   "execution_count": 1,
   "id": "9abad97b",
   "metadata": {
    "vscode": {
     "languageId": "plaintext"
    }
   },
   "outputs": [],
   "source": [
    "import networkx as nx\n",
    "import matplotlib.pyplot as plt\n",
    "import random"
   ]
  },
  {
   "cell_type": "code",
   "execution_count": 2,
   "id": "a7f63222-ac08-4fbb-8ad2-c8a76463851d",
   "metadata": {},
   "outputs": [],
   "source": [
    "G = nx.karate_club_graph()"
   ]
  },
  {
   "cell_type": "code",
   "execution_count": 3,
   "id": "90b9c5a7-57fc-4efa-a0d8-64c3761332b9",
   "metadata": {},
   "outputs": [],
   "source": [
    "def run_ic(G , seeds , p = 0.1 , simulations =100):\n",
    "    total_spread = 0\n",
    "    for _ in range(simulations):\n",
    "        active = set(seeds)\n",
    "        newly_active = set(seeds)\n",
    "        while newly_active:\n",
    "            next_active = set()\n",
    "            for node in newly_active:\n",
    "                for neighbor in G.neighbors(node):\n",
    "                    if neighbor not in active and random.random() <p:\n",
    "                        next_active.add(neighbor)\n",
    "            newly_active = next_active\n",
    "            active |= next_active\n",
    "        total_spread += len(active)\n",
    "    return total_spread / simulations\n",
    "            "
   ]
  },
  {
   "cell_type": "code",
   "execution_count": null,
   "id": "b44df894-ddec-42f0-895a-bec65d6beead",
   "metadata": {},
   "outputs": [],
   "source": [
    "def greedy_influence_maximisation(G , k = 3 , p = 0.1 , simulations = 100):\n",
    "    seeds = []\n",
    "    for _ in range(k):\n",
    "        best_node = None\n",
    "        best_gain = -1\n",
    "        for node in G.nodes():\n",
    "            if node in seeds:\n",
    "                continue\n",
    "            gain = run_ic(G , seeds + [node],p,simulations) - run_ic(G , seeds , p ,simulations)\n",
    "            if gain > best_gain:\n",
    "                best_gain = gain\n",
    "                best_node = node\n",
    "        seeds.append(best_node)\n",
    "    return seeds\n",
    "\n",
    "seed_nodes = greedy_influence_maximisation(G , k=3,p=0.1,simulations=100)\n",
    "\n",
    "pos = nx.spring_layout(G , seed = 42)\n",
    "plt.figure(figsize=(10,7))\n",
    "nx.draw(G , pos , nodelist=seed_nodes,node_color='orange',node_size=900,label='Seed Nodes')\n",
    "plt"
   ]
  }
 ],
 "metadata": {
  "kernelspec": {
   "display_name": "Python 3 (ipykernel)",
   "language": "python",
   "name": "python3"
  },
  "language_info": {
   "codemirror_mode": {
    "name": "ipython",
    "version": 3
   },
   "file_extension": ".py",
   "mimetype": "text/x-python",
   "name": "python",
   "nbconvert_exporter": "python",
   "pygments_lexer": "ipython3",
   "version": "3.11.7"
  }
 },
 "nbformat": 4,
 "nbformat_minor": 5
}
